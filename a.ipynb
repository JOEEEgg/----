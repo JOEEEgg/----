import csv
import os

# CSV 파일 경로
input_file1 = 'C:/데이터분석/미니프로젝트/데이터/해쉬태그1.csv'
input_file2 = 'C:/데이터분석/미니프로젝트/데이터/해쉬태그2.csv'
input_file3 = 'C:/데이터분석/미니프로젝트/데이터/해쉬태그3.csv'
input_file4 = 'C:/데이터분석/미니프로젝트/데이터/해쉬태그4.csv'
input_file5 = 'C:/데이터분석/미니프로젝트/데이터/해쉬태그5.csv'
input_file6 = 'C:/데이터분석/미니프로젝트/데이터/해쉬태그6.csv'

output_file = 'C:/데이터분석/미니프로젝트/데이터/해쉬태그.csv'

# CSV 파일 합치기
def merge_csv_files(file1, file2, file3, file4, file5, file6, output):
    with open(file1, 'r', newline='', encoding='utf-8-sig') as csvfile1, \
         open(file2, 'r', newline='', encoding='utf-8-sig') as csvfile2, \
         open(file3, 'r', newline='', encoding='utf-8-sig') as csvfile3, \
         open(file4, 'r', newline='', encoding='utf-8-sig') as csvfile4, \
         open(file5, 'r', newline='', encoding='utf-8-sig') as csvfile5, \
         open(file6, 'r', newline='', encoding='utf-8-sig') as csvfile6, \
         open(output, 'w', newline='', encoding='utf-8-sig') as merged_csv:
        
        csvreader1 = csv.reader(csvfile1)
        csvreader2 = csv.reader(csvfile2)
        csvwriter = csv.writer(merged_csv)
        
        # 파일 1 복사
        for row in csvreader1:
            csvwriter.writerow(row)
        
        # 파일 2 복사
        for row in csvreader2:
            csvwriter.writerow(row)

# 파일 병합 함수 호출
merge_csv_files(input_file1, input_file2, output_file)

print('CSV 파일이 성공적으로 합쳐졌습니다.')
