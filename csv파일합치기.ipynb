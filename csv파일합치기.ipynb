{
 "cells": [
  {
   "cell_type": "code",
   "execution_count": 5,
   "metadata": {},
   "outputs": [
    {
     "name": "stdout",
     "output_type": "stream",
     "text": [
      "CSV 파일이 성공적으로 합쳐졌습니다.\n"
     ]
    }
   ],
   "source": [
    "import csv\n",
    "import os\n",
    "\n",
    "# CSV 파일 경로\n",
    "input_file1 = 'C:/데이터분석/미니프로젝트/데이터/해쉬태그.csv'\n",
    "input_file2 = 'C:/데이터분석/미니프로젝트/데이터/해쉬태그7.csv'\n",
    "\n",
    "output_file = 'C:/데이터분석/미니프로젝트/데이터/해쉬태그_최종.csv'\n",
    "\n",
    "# CSV 파일 합치기\n",
    "def merge_csv_files(file1, file2,  output):\n",
    "    with open(file1, 'r', newline='', encoding='utf-8-sig') as csvfile1, \\\n",
    "         open(file2, 'r', newline='', encoding='utf-8-sig') as csvfile2, \\\n",
    "         open(output, 'w', newline='', encoding='utf-8-sig') as merged_csv:\n",
    "        \n",
    "        csvreader1 = csv.reader(csvfile1)\n",
    "        csvreader2 = csv.reader(csvfile2)\n",
    "        csvwriter = csv.writer(merged_csv)\n",
    "        \n",
    "        # 파일 1 복사\n",
    "        for row in csvreader1:\n",
    "            csvwriter.writerow(row)\n",
    "        \n",
    "        # 파일 2 복사\n",
    "        for row in csvreader2:\n",
    "            csvwriter.writerow(row)\n",
    "        \n",
    "       \n",
    "\n",
    "# 파일 병합 함수 호출\n",
    "merge_csv_files(input_file1, input_file2, output_file)\n",
    "\n",
    "print('CSV 파일이 성공적으로 합쳐졌습니다.')\n"
   ]
  },
  {
   "cell_type": "code",
   "execution_count": null,
   "metadata": {},
   "outputs": [],
   "source": []
  }
 ],
 "metadata": {
  "kernelspec": {
   "display_name": "base",
   "language": "python",
   "name": "python3"
  },
  "language_info": {
   "codemirror_mode": {
    "name": "ipython",
    "version": 3
   },
   "file_extension": ".py",
   "mimetype": "text/x-python",
   "name": "python",
   "nbconvert_exporter": "python",
   "pygments_lexer": "ipython3",
   "version": "3.11.4"
  },
  "orig_nbformat": 4
 },
 "nbformat": 4,
 "nbformat_minor": 2
}
