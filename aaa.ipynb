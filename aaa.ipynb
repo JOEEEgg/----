{
 "cells": [
  {
   "cell_type": "code",
   "execution_count": null,
   "metadata": {},
   "outputs": [],
   "source": []
  },
  {
   "cell_type": "code",
   "execution_count": 4,
   "metadata": {},
   "outputs": [
    {
     "name": "stdout",
     "output_type": "stream",
     "text": [
      "<class 'pandas.core.frame.DataFrame'>\n",
      "RangeIndex: 538 entries, 0 to 537\n",
      "Data columns (total 7 columns):\n",
      " #   Column      Non-Null Count  Dtype  \n",
      "---  ------      --------------  -----  \n",
      " 0   상품주소        538 non-null    object \n",
      " 1   브랜드         538 non-null    object \n",
      " 2   성별          538 non-null    object \n",
      " 3   카테고리        538 non-null    object \n",
      " 4   상품가격        538 non-null    int64  \n",
      " 5   핏           538 non-null    object \n",
      " 6   Unnamed: 6  0 non-null      float64\n",
      "dtypes: float64(1), int64(1), object(5)\n",
      "memory usage: 29.6+ KB\n",
      "<class 'pandas.core.frame.DataFrame'>\n",
      "RangeIndex: 538 entries, 0 to 537\n",
      "Data columns (total 7 columns):\n",
      " #   Column      Non-Null Count  Dtype  \n",
      "---  ------      --------------  -----  \n",
      " 0   상품주소        538 non-null    object \n",
      " 1   브랜드         538 non-null    object \n",
      " 2   성별          538 non-null    object \n",
      " 3   카테고리        538 non-null    object \n",
      " 4   상품가격        538 non-null    int32  \n",
      " 5   핏           538 non-null    object \n",
      " 6   Unnamed: 6  0 non-null      float64\n",
      "dtypes: float64(1), int32(1), object(5)\n",
      "memory usage: 27.4+ KB\n"
     ]
    }
   ],
   "source": [
    "\n",
    "import pandas as pd\n",
    "\n",
    "data = pd.read_csv('C:/데이터분석/미니프로젝트/데이터/bbb.csv', encoding='cp949')\n",
    "\n",
    "data.info()\n",
    "df = data.astype({'상품가격':'int'})\n",
    "df.info()"
   ]
  },
  {
   "cell_type": "code",
   "execution_count": null,
   "metadata": {},
   "outputs": [],
   "source": []
  }
 ],
 "metadata": {
  "kernelspec": {
   "display_name": "base",
   "language": "python",
   "name": "python3"
  },
  "language_info": {
   "codemirror_mode": {
    "name": "ipython",
    "version": 3
   },
   "file_extension": ".py",
   "mimetype": "text/x-python",
   "name": "python",
   "nbconvert_exporter": "python",
   "pygments_lexer": "ipython3",
   "version": "3.11.4"
  },
  "orig_nbformat": 4
 },
 "nbformat": 4,
 "nbformat_minor": 2
}
